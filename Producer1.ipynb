{
 "cells": [
  {
   "cell_type": "markdown",
   "metadata": {},
   "source": [
    "### Task C - Producer 1\n",
    "\n",
    "\n",
    "**Producer 1** is used to read data from the Climate streaming csv file and send data to the **Apache Spark Streaming** application in a time interval of 5 seconds. \n",
    "\n",
    "Producer is designed to run infinitely to produce sufficient stream of data to the streaming application.\n"
   ]
  },
  {
   "cell_type": "code",
   "execution_count": null,
   "metadata": {},
   "outputs": [],
   "source": [
    "# import statements\n",
    "from time import sleep\n",
    "from json import dumps\n",
    "from random import *\n",
    "from kafka import KafkaProducer\n",
    "import random\n",
    "import json\n",
    "import csv\n",
    "import datetime as dt\n"
   ]
  },
  {
   "cell_type": "code",
   "execution_count": null,
   "metadata": {},
   "outputs": [],
   "source": [
    "#In this block, csv file is read in a list \n",
    "climate_l=[]\n",
    "\n",
    "def read_csv(filename):    \n",
    "    with open(filename,'r') as f:\n",
    "        reader=csv.reader(f)\n",
    "        row_count=1\n",
    "\n",
    "        \n",
    "        for row in reader:           \n",
    "            climate_l.append(row)\n",
    "        row_count += 1\n",
    "            \n",
    "    return climate_l\n",
    "\n",
    "climate = read_csv('climate_streaming.csv')\n",
    "#print(climate_l[1])\n",
    "\n"
   ]
  },
  {
   "cell_type": "code",
   "execution_count": null,
   "metadata": {},
   "outputs": [],
   "source": [
    "#This block is to test if the temp dictionary is generated properly\n",
    "temp={}\n",
    "i=0\n",
    "for i in range(len(climate_l)-1):\n",
    "        rand=random.randint(1,len(climate_l)-1)\n",
    "      #  print(rand)\n",
    "        temp['latitue']=float(climate_l[rand][0])\n",
    "        temp['longitute']=float(climate_l[rand][1])\n",
    "        temp['air_temp']=int(climate_l[rand][2])\n",
    "        temp['rel_hum']=float(climate_l[rand][3])\n",
    "        temp['windspeed']=float(climate_l[rand][4])\n",
    "        temp['max_wind']=float(climate_l[rand][5])\n",
    "        temp['precp']=climate_l[rand][6]  \n",
    "        temp['sender_id']='Climate'\n",
    "        temp['time_stamp']=str(dt.datetime.now().strftime(\"%X\"))\n",
    "       # print(temp)   \n",
    "        #print(json.dumps(temp))\n",
    "        data= json.dumps(temp)\n",
    "       # print(i,data)"
   ]
  },
  {
   "cell_type": "code",
   "execution_count": null,
   "metadata": {},
   "outputs": [],
   "source": []
  },
  {
   "cell_type": "code",
   "execution_count": null,
   "metadata": {},
   "outputs": [],
   "source": [
    "#This block has 2 functions, one creates a kafka producer instance and the publish message is used to send \n",
    "#the data in string form to the streaming application\n",
    "\n",
    "def publish_message(producer_instance, topic_name, key, value):\n",
    "    try:\n",
    "        key_bytes = bytes(key, encoding='utf-8')\n",
    "        value_bytes = bytes(value, encoding='utf-8')\n",
    "       # print(''+ str(value))\n",
    "        producer_instance.send(topic_name, key=key_bytes, value=value_bytes)\n",
    "        producer_instance.flush()       \n",
    "       # print('Message published successfully. Data: ' + str(value))\n",
    "        print(str(value))\n",
    "       # print(value_bytes)\n",
    "    except Exception as ex:\n",
    "        print('Exception in publishing message.')\n",
    "        print(str(ex))\n",
    "        \n",
    "def connect_kafka_producer():\n",
    "    _producer = None\n",
    "    try:\n",
    "        _producer = KafkaProducer(bootstrap_servers=['localhost:9092'],\n",
    "                                  api_version=(0, 10))\n",
    "        print('producer instance created')\n",
    "    except Exception as ex:\n",
    "        print('Exception while connecting Kafka.')\n",
    "        print(str(ex))\n",
    "    finally:\n",
    "        return _producer\n",
    "    \n",
    "\n",
    "if __name__ == '__main__':\n",
    "   \n",
    "    topic = 'S1'\n",
    "    \n",
    "    print('Publishing records..')\n",
    "    producer = connect_kafka_producer()\n",
    "    temp={}\n",
    "    i=0\n",
    "    # while true is used for the producer to run infinitely\n",
    "    while True:\n",
    "    #for i in range(len(climate_l)-1):\n",
    "        rand=random.randint(1,len(climate_l)-1)\n",
    "      #  print(rand)\n",
    "        temp['latitude']=float(climate_l[rand][0])\n",
    "        temp['longitude']=float(climate_l[rand][1])\n",
    "        temp['air_temp']=int(climate_l[rand][2])\n",
    "        temp['rel_hum']=float(climate_l[rand][3])\n",
    "        temp['windspeed']=float(climate_l[rand][4])\n",
    "        temp['max_wind']=float(climate_l[rand][5])\n",
    "        temp['precp']=climate_l[rand][6]  \n",
    "        temp['sender_id']='Climate'\n",
    "        temp['time_stamp']=str(dt.datetime.now().strftime(\"%X\"))\n",
    "       # print(temp)   \n",
    "        #print(json.dumps(temp))\n",
    "        data= json.dumps(temp)\n",
    "       # print(data)\n",
    "        key='P1'\n",
    "        publish_message(producer, topic, key, json.dumps(temp))\n",
    "       \n",
    "        \n",
    "        sleep(5)"
   ]
  },
  {
   "cell_type": "code",
   "execution_count": null,
   "metadata": {},
   "outputs": [],
   "source": []
  },
  {
   "cell_type": "code",
   "execution_count": null,
   "metadata": {},
   "outputs": [],
   "source": []
  },
  {
   "cell_type": "code",
   "execution_count": null,
   "metadata": {},
   "outputs": [],
   "source": []
  },
  {
   "cell_type": "code",
   "execution_count": null,
   "metadata": {},
   "outputs": [],
   "source": []
  },
  {
   "cell_type": "code",
   "execution_count": null,
   "metadata": {},
   "outputs": [],
   "source": []
  },
  {
   "cell_type": "code",
   "execution_count": null,
   "metadata": {},
   "outputs": [],
   "source": []
  }
 ],
 "metadata": {
  "kernelspec": {
   "display_name": "Python 3",
   "language": "python",
   "name": "python3"
  },
  "language_info": {
   "codemirror_mode": {
    "name": "ipython",
    "version": 3
   },
   "file_extension": ".py",
   "mimetype": "text/x-python",
   "name": "python",
   "nbconvert_exporter": "python",
   "pygments_lexer": "ipython3",
   "version": "3.5.2"
  }
 },
 "nbformat": 4,
 "nbformat_minor": 2
}
