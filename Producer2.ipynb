{
 "cells": [
  {
   "cell_type": "markdown",
   "metadata": {},
   "source": [
    "### Task C - Producer 2\n",
    "\n",
    "\n",
    "**Producer 2** is used to read data from the Aqua streaming csv file and send data to the **Apache Spark Streaming** application in a time interval of 10 to 30 seconds (generated randomly). \n",
    "\n",
    "Producer is designed to run infinitely to produce sufficient stream of data to the streaming application.\n"
   ]
  },
  {
   "cell_type": "code",
   "execution_count": null,
   "metadata": {},
   "outputs": [],
   "source": [
    "# import statements\n",
    "from time import sleep\n",
    "from json import dumps\n",
    "from random import *\n",
    "from kafka import KafkaProducer\n",
    "import random\n",
    "import json\n",
    "import csv\n",
    "import datetime as dt"
   ]
  },
  {
   "cell_type": "code",
   "execution_count": null,
   "metadata": {},
   "outputs": [],
   "source": [
    "#In this block, csv file is read in a list\n",
    "hotspot_Aqua=[]\n",
    "\n",
    "def read_csv(filename):    \n",
    "    with open(filename,'r') as f:\n",
    "        reader=csv.reader(f)\n",
    "        row_count=1\n",
    "        \n",
    "        for row in reader:           \n",
    "            hotspot_Aqua.append(row)\n",
    "        row_count += 1\n",
    "            \n",
    "    return hotspot_Aqua\n",
    "\n",
    "climate = read_csv('hotspot_AQUA_streaming.csv')\n",
    "print(hotspot_Aqua[0])\n",
    "\n"
   ]
  },
  {
   "cell_type": "code",
   "execution_count": null,
   "metadata": {},
   "outputs": [],
   "source": [
    "#This block is to test if the temp dictionary is generated properly\n",
    "temp={}\n",
    "i=0\n",
    "for i in range(len(hotspot_Aqua)-1):\n",
    "        rand=random.randint(1,len(hotspot_Aqua)-1)\n",
    "      #  print(rand)\n",
    "        temp['latitue']=float(hotspot_Aqua[rand][0])\n",
    "        temp['longitute']=float(hotspot_Aqua[rand][1])\n",
    "        temp['confidence']=int(hotspot_Aqua[rand][2])\n",
    "        temp['surf_air_temp']=int(hotspot_Aqua[rand][3])        \n",
    "        temp['sender_id']='Climate'\n",
    "        temp['time_stamp']=str(dt.datetime.now().strftime(\"%X\"))\n",
    "       # print(temp)   \n",
    "        #print(json.dumps(temp))\n",
    "        \n",
    "        data= json.dumps(temp)\n",
    "        print(i,data)\n"
   ]
  },
  {
   "cell_type": "code",
   "execution_count": null,
   "metadata": {},
   "outputs": [],
   "source": [
    "#This block has 2 functions, one creates a kafka producer instance and the publish message is used to send \n",
    "#the data in string form to the streaming application\n",
    "\n",
    "def publish_message(producer_instance, topic_name, key, value):\n",
    "    try:\n",
    "        key_bytes = bytes(key, encoding='utf-8')\n",
    "        value_bytes = bytes(value, encoding='utf-8')\n",
    "       # print(''+ str(value))\n",
    "        producer_instance.send(topic_name, key=key_bytes, value=value_bytes)\n",
    "        producer_instance.flush()       \n",
    "        print('Message published successfully. Data: ' + str(value))\n",
    "       # print(value_bytes)\n",
    "    except Exception as ex:\n",
    "        print('Exception in publishing message.')\n",
    "        print(str(ex))\n",
    "        \n",
    "def connect_kafka_producer():\n",
    "    _producer = None\n",
    "    try:\n",
    "        _producer = KafkaProducer(bootstrap_servers=['localhost:9092'],\n",
    "                                  api_version=(0, 10))\n",
    "        print('producer instance created')\n",
    "    except Exception as ex:\n",
    "        print('Exception while connecting Kafka.')\n",
    "        print(str(ex))\n",
    "    finally:\n",
    "        return _producer\n",
    "    \n",
    "\n",
    "if __name__ == '__main__':\n",
    "   \n",
    "    topic = 'S1'\n",
    "    \n",
    "    print('Publishing records..')\n",
    "    producer = connect_kafka_producer()\n",
    "    temp={}\n",
    "    i=0\n",
    "    # while true is used for the producer to run infinitely\n",
    "    while True:\n",
    "    #for i in range(len(hotspot_Aqua)-1):\n",
    "        rand=random.randint(1,len(hotspot_Aqua)-1)\n",
    "      #  print(rand)\n",
    "        temp['latitude']=float(hotspot_Aqua[rand][0])\n",
    "        temp['longitude']=float(hotspot_Aqua[rand][1])\n",
    "        temp['confidence']=int(hotspot_Aqua[rand][2])\n",
    "        temp['surf_air_temp']=int(hotspot_Aqua[rand][3])        \n",
    "        temp['sender_id']='Aqua'\n",
    "        temp['time_stamp']=str(dt.datetime.now().strftime(\"%X\"))\n",
    "       # print(temp)   \n",
    "        #print(json.dumps(temp))\n",
    "        data= json.dumps(temp)\n",
    "       # print(i,data)\n",
    "       # print(data)\n",
    "        key='P2'\n",
    "        publish_message(producer, topic, key, data)\n",
    "       \n",
    "        \n",
    "        sleep(randint(10,30))"
   ]
  },
  {
   "cell_type": "code",
   "execution_count": null,
   "metadata": {},
   "outputs": [],
   "source": []
  },
  {
   "cell_type": "code",
   "execution_count": null,
   "metadata": {},
   "outputs": [],
   "source": []
  },
  {
   "cell_type": "code",
   "execution_count": null,
   "metadata": {},
   "outputs": [],
   "source": []
  },
  {
   "cell_type": "code",
   "execution_count": null,
   "metadata": {},
   "outputs": [],
   "source": []
  },
  {
   "cell_type": "code",
   "execution_count": null,
   "metadata": {},
   "outputs": [],
   "source": []
  },
  {
   "cell_type": "code",
   "execution_count": null,
   "metadata": {},
   "outputs": [],
   "source": []
  }
 ],
 "metadata": {
  "kernelspec": {
   "display_name": "Python 3",
   "language": "python",
   "name": "python3"
  },
  "language_info": {
   "codemirror_mode": {
    "name": "ipython",
    "version": 3
   },
   "file_extension": ".py",
   "mimetype": "text/x-python",
   "name": "python",
   "nbconvert_exporter": "python",
   "pygments_lexer": "ipython3",
   "version": "3.5.2"
  }
 },
 "nbformat": 4,
 "nbformat_minor": 2
}
